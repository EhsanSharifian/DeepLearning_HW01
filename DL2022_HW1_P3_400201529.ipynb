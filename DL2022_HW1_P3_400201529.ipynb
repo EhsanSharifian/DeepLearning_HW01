{
  "cells": [
    {
      "cell_type": "markdown",
      "metadata": {
        "id": "V5pLfptoCfm2"
      },
      "source": [
        "# Deep Learning"
      ]
    },
    {
      "cell_type": "markdown",
      "metadata": {
        "id": "NN3gN2aZCfm3"
      },
      "source": [
        "## HW1- Problem 3 - Regression (100 pts)"
      ]
    },
    {
      "cell_type": "markdown",
      "metadata": {
        "id": "UJNIyUPJCfm3"
      },
      "source": [
        "### Please fill this part\n",
        "\n",
        "\n",
        "1.   Full Name: Ehsan Sharifian\n",
        "2.   Student Number: 400201529\n",
        "\n",
        "\n",
        "*You are just allowded to change those parts that start with \"TO DO\". Please do not change other parts.*\n",
        "\n",
        "*It is highly recommended to read each codeline carefully and try to understand what it exactly does. Best of luck and have fun!*"
      ]
    },
    {
      "cell_type": "code",
      "execution_count": 1,
      "metadata": {
        "id": "Zn7DKMTlCfm4"
      },
      "outputs": [],
      "source": [
        "# You are not allowed to import other packages.\n",
        "\n",
        "import numpy as np\n",
        "import pandas as pd\n",
        "\n",
        "from matplotlib import pyplot as plt\n",
        "from sklearn.metrics import mean_squared_error"
      ]
    },
    {
      "cell_type": "code",
      "execution_count": 2,
      "metadata": {
        "colab": {
          "base_uri": "https://localhost:8080/"
        },
        "id": "XYAVUfgTB8gS",
        "outputId": "9a337c2c-fe1d-49db-c39c-94394c5b9773"
      },
      "outputs": [
        {
          "output_type": "stream",
          "name": "stdout",
          "text": [
            "Mounted at /content/drive\n"
          ]
        }
      ],
      "source": [
        "from google.colab import drive\n",
        "drive.mount('/content/drive')"
      ]
    },
    {
      "cell_type": "markdown",
      "metadata": {
        "id": "42qPa7_iCfm4"
      },
      "source": [
        "### Part1:\n",
        "Consider the dataset which has been given to you. Split the dataset into the `training dataset` and `test dataset`. You can use `80%` of the data for training and the rest for testing."
      ]
    },
    {
      "cell_type": "code",
      "execution_count": 30,
      "metadata": {
        "id": "0Xy2jIEUCfm5"
      },
      "outputs": [],
      "source": [
        "df = pd.read_csv(\"/content/drive/My Drive/data/data01.csv\")\n",
        "\n",
        "train = df.sample(frac=0.8)\n",
        "test = df.drop(train.index)\n",
        "\n",
        "# implement the split part\n",
        "# name them: x_train, x_test, y_train, y_test\n",
        "\n",
        "x_train = train['X'].to_numpy()\n",
        "y_train = train['Y'].to_numpy()\n",
        "\n",
        "x_test = test['X'].to_numpy()\n",
        "y_test = test['Y'].to_numpy()"
      ]
    },
    {
      "cell_type": "markdown",
      "metadata": {
        "id": "AhUTGWFLCfm5"
      },
      "source": [
        "### Part2:\n",
        "Assume there is simple linear relationship between X and Y. Train a simple `Linear Regression` on the training dataset and report its accuracy on the training and testing dataset, separately."
      ]
    },
    {
      "cell_type": "code",
      "execution_count": 31,
      "metadata": {
        "colab": {
          "base_uri": "https://localhost:8080/"
        },
        "id": "UGVxReHwCfm5",
        "outputId": "9033040a-25ab-44a9-cf4f-c753234634a7"
      },
      "outputs": [
        {
          "output_type": "stream",
          "name": "stdout",
          "text": [
            "[-1.02344138  0.8093757 ]\n"
          ]
        }
      ],
      "source": [
        "# here you can implement via sgd or use least square solution. we suggest the second one inv(A^T A) * A^T y.\n",
        "# consider m as the returned line --> m[0] = the slope , m[1] = y intercept, also don't forget to use numpy for calculating m.\n",
        "# Building the model\n",
        "\n",
        "A = np.transpose(np.vstack((x_train, np.ones(len(x_train)))))\n",
        "m = np.linalg.inv(np.transpose(A) @ A) @ np.transpose(A) @ y_train\n",
        "print(m)"
      ]
    },
    {
      "cell_type": "code",
      "execution_count": 32,
      "metadata": {
        "colab": {
          "base_uri": "https://localhost:8080/"
        },
        "id": "OQJmkMr8Cfm5",
        "outputId": "c1eba909-e799-4096-9db4-316ff0926330"
      },
      "outputs": [
        {
          "output_type": "stream",
          "name": "stdout",
          "text": [
            "MSE train error: 0.3367512062769448\n",
            "MSE test error: 0.30645793206634847\n"
          ]
        }
      ],
      "source": [
        "predicted_train_y = m[0] * x_train + m[1]\n",
        "predicted_test_y = m[0] * x_test + m[1]\n",
        "\n",
        "train_error = mean_squared_error(y_train, predicted_train_y)\n",
        "test_error = mean_squared_error(y_test, predicted_test_y)\n",
        "\n",
        "\n",
        "print(f\"MSE train error: {train_error}\\nMSE test error: {test_error}\")"
      ]
    },
    {
      "cell_type": "markdown",
      "metadata": {
        "id": "eYAKuQ_aCfm5"
      },
      "source": [
        "### Part3:\n",
        "Draw the line you've found in the last part, on train and test points (each separately)."
      ]
    },
    {
      "cell_type": "code",
      "execution_count": 33,
      "metadata": {
        "colab": {
          "base_uri": "https://localhost:8080/",
          "height": 299
        },
        "id": "tuanjsfCCfm5",
        "outputId": "9276c869-6d70-45e7-fb37-0ae1622a750b"
      },
      "outputs": [
        {
          "output_type": "execute_result",
          "data": {
            "text/plain": [
              "Text(0.5, 1.0, 'Train dataset')"
            ]
          },
          "metadata": {},
          "execution_count": 33
        },
        {
          "output_type": "display_data",
          "data": {
            "text/plain": [
              "<Figure size 432x288 with 1 Axes>"
            ],
            "image/png": "[encoded data removed]"
          },
          "metadata": {
            "needs_background": "light"
          }
        }
      ],
      "source": [
        "plt.scatter(x_train, y_train)\n",
        "plt.scatter(x_train, m[0]*x_train + m[1], s=1)\n",
        "plt.title(\"Train dataset\")"
      ]
    },
    {
      "cell_type": "code",
      "execution_count": 34,
      "metadata": {
        "colab": {
          "base_uri": "https://localhost:8080/",
          "height": 299
        },
        "id": "eHkgOFYwCfm6",
        "outputId": "767fe7d4-4a07-45ad-d449-cb06fcdbdea8"
      },
      "outputs": [
        {
          "output_type": "execute_result",
          "data": {
            "text/plain": [
              "Text(0.5, 1.0, 'Test dataset')"
            ]
          },
          "metadata": {},
          "execution_count": 34
        },
        {
          "output_type": "display_data",
          "data": {
            "text/plain": [
              "<Figure size 432x288 with 1 Axes>"
            ],
            "image/png": "[encoded data removed]"
          },
          "metadata": {
            "needs_background": "light"
          }
        }
      ],
      "source": [
        "plt.scatter(x_test, y_test)\n",
        "plt.scatter(x_test, m[0]*x_test + m[1], s=1)\n",
        "plt.title(\"Test dataset\")"
      ]
    },
    {
      "cell_type": "markdown",
      "metadata": {
        "id": "qZ_SOZkpCfm6"
      },
      "source": [
        "### Part4:\n",
        "Were the reported accuracies acceptable?\n",
        "\n",
        "What about the line you drew in the last part?\n",
        "\n",
        "Was it appropriate for the dataset?\n",
        "<br><br/>\n",
        "Explain what are the main problems here."
      ]
    },
    {
      "cell_type": "markdown",
      "metadata": {
        "id": "oqUmlie3Cfm6"
      },
      "source": [
        "<div dir=\"rtl\"> <font size=\"4\" face=\"HM XNiloofar\"> \n",
        "دقت‌های گزارش شده بسیار نامطلوب است، چرا که محدوده‌ی تغییرات خود داده‌ها زیاد نیست و خطا نسبت به خود داده بزرگ است. خطی که بر داده‌ها برازش شده است نیز به هیچ وجه شکل قابل قبولی برای پراکندگی داده‌ها نیست. این اتفاق به این علت رخ داده که مدل بین متغیر‌ها مدل خطی نیست و مدل کردن خطی به نتایج نامطلوبی می‌انجامد.\n",
        "</font> </div>"
      ]
    },
    {
      "cell_type": "markdown",
      "metadata": {
        "id": "HwrtefHvCfm6"
      },
      "source": [
        "### Part5:\n",
        "Now, consider the `Locally Weighted Linear Regression` approach for this problem. Do expect it performs better than simple `Linear Regression` for this dataset?"
      ]
    },
    {
      "cell_type": "markdown",
      "metadata": {
        "id": "oN1O6qw6Cfm6"
      },
      "source": [
        "<div dir=\"rtl\"> <font size=\"4\" face=\"HM XNiloofar\"> \n",
        "رگرسیون خطی محلی می‌تواند پیچیدگی غیر خطی بین داده‌ها را بسیار بهتر مدل کند، زیرا برای مدل‌های غیر خطی نیز می‌توان در ناحیه‌های کوچک تقریب‌های خطی را جایگزین آن‌ها کرد. در نتیجه پیش از شبیه‌سازی نیز انتظار داریم به نتایج بهتری برسیم.\n",
        "</font> </div>"
      ]
    },
    {
      "cell_type": "markdown",
      "metadata": {
        "id": "howS0W7DCfm6"
      },
      "source": [
        "### Part6:\n",
        "Here, we want to implement the `suggested model`. You can implement any weight function you want, the below implementation is just a sample:\n",
        "<br><br/>\n",
        "\\begin{equation*}\n",
        "    w^{(i)}=exp\\left(-\\frac{(\\mathbf x^{(i)}-\\mathbf x)^\\top(\\mathbf x^{(i)}-\\mathbf x)}{2\\tau^2}\\right)\n",
        "\\end{equation*}"
      ]
    },
    {
      "cell_type": "code",
      "execution_count": 35,
      "metadata": {
        "id": "oLhyUc1-Cfm6"
      },
      "outputs": [],
      "source": [
        "def get_weight_matrix(the_query_point, train_dataset, hyperparameter):\n",
        "    l = train_dataset.shape[0]\n",
        "    W = np.mat(np.eye(l))\n",
        "    for i, xi in enumerate(train_dataset):\n",
        "        W[i, i] = np.exp(-((xi - the_query_point) @ np.transpose((xi - the_query_point))) / (2 * (hyperparameter**2)))\n",
        "    return W"
      ]
    },
    {
      "cell_type": "markdown",
      "metadata": {
        "id": "ZWFn3ob-Cfm6"
      },
      "source": [
        "Now implement the `closed form solution` based on the following formula:\n",
        "<br><br/>\n",
        "\\begin{equation*}\n",
        "    \\boldsymbol\\theta=(X^\\top WX)^{-1}(X^\\top WY)\n",
        "\\end{equation*}\n",
        "<br><br/>\n",
        "Of course if you use another form, implement your own."
      ]
    },
    {
      "cell_type": "code",
      "execution_count": 72,
      "metadata": {
        "id": "r3vd0Y7GCfm7"
      },
      "outputs": [],
      "source": [
        "def predict(train_X, train_Y, query_x, hyperparameter):\n",
        "    l = train_X.shape[0]\n",
        "    X = np.transpose(np.vstack((train_X, np.ones(l))))\n",
        "    qx = np.mat([query_x, 1])\n",
        "    W = get_weight_matrix(qx, X, hyperparameter)\n",
        "\n",
        "    theta = np.linalg.inv(X.T @ W @ X) @ X.T @ W @ train_Y\n",
        "\n",
        "    return np.dot(np.array([query_x, 1]),np.array(theta)[0])"
      ]
    },
    {
      "cell_type": "markdown",
      "metadata": {
        "id": "riT8nSp3Cfm7"
      },
      "source": [
        "### Part7:\n",
        "Report accuracy of this model on the test dataset. Also, draw a plot that contains (x_test, y_test) pairs and (x_test, predicted_y) pairs that differ in color."
      ]
    },
    {
      "cell_type": "code",
      "execution_count": 77,
      "metadata": {
        "colab": {
          "base_uri": "https://localhost:8080/"
        },
        "id": "19Gd9m20LuF_",
        "outputId": "72c284e9-230c-422f-bea4-8f448aba852a"
      },
      "outputs": [
        {
          "output_type": "stream",
          "name": "stdout",
          "text": [
            "MSE test error: 0.08124364423823861\n"
          ]
        }
      ],
      "source": [
        "hyperparameters = np.linspace(0.01, 0.2, num=20)\n",
        "min_error = 1000\n",
        "min_hyperparameter = 0.1\n",
        "for hyperparameter in hyperparameters:\n",
        "  predicted_test = [predict(x_train, y_train, query, hyperparameter) for query in x_test]\n",
        "  error = mean_squared_error(y_test, predicted_test)\n",
        "  if (error < min_error):\n",
        "    min_error = error\n",
        "    min_hyperparameter = hyperparameter\n",
        "predicted_test = [predict(x_train, y_train, query, min_hyperparameter) for query in x_test]\n",
        "error = mean_squared_error(y_test, predicted_test)\n",
        "print(f\"MSE test error: {error}\")"
      ]
    },
    {
      "cell_type": "code",
      "execution_count": 79,
      "metadata": {
        "colab": {
          "base_uri": "https://localhost:8080/",
          "height": 285
        },
        "id": "muqhOt_WCfm7",
        "outputId": "e809ad2b-9048-49e7-8554-332ef033c4ad"
      },
      "outputs": [
        {
          "output_type": "execute_result",
          "data": {
            "text/plain": [
              "<matplotlib.collections.PathCollection at 0x7fd0cdbb0340>"
            ]
          },
          "metadata": {},
          "execution_count": 79
        },
        {
          "output_type": "display_data",
          "data": {
            "text/plain": [
              "<Figure size 432x288 with 1 Axes>"
            ],
            "image/png": "[encoded data removed]"
          },
          "metadata": {
            "needs_background": "light"
          }
        }
      ],
      "source": [
        "plt.scatter(x_test, y_test, c=\"blue\")\n",
        "plt.scatter(x_test, predicted_test, c=\"yellow\")"
      ]
    },
    {
      "cell_type": "markdown",
      "metadata": {
        "id": "EwEhg-O1Cfm7"
      },
      "source": [
        "### Part8:\n",
        "Is the performance of the new model better than the previous one? `Explain`."
      ]
    },
    {
      "cell_type": "markdown",
      "metadata": {
        "id": "1IJC8s9FCfm7"
      },
      "source": [
        "<div dir=\"rtl\"> <font size=\"4\" face=\"HM XNiloofar\"> \n",
        "بله، مدل جدید از مدل قبلی بهتر کار می‌کند. علت آن است که مدل جدید می‌تواند روابط غیر خطی که بین داده‌ها وجود دارد را مدل کند ولی رگرسیون خطی دارای چنین قابلیتی نیست.\n",
        "</font> </div>"
      ]
    },
    {
      "cell_type": "markdown",
      "metadata": {
        "id": "MYLZt5z1Cfm7"
      },
      "source": [
        "### Part9:\n",
        "Now, we want to consider the `KNN` approach for this problem; Do you think it will perform well?"
      ]
    },
    {
      "cell_type": "markdown",
      "metadata": {
        "id": "eLMq1qPrCfm7"
      },
      "source": [
        "<div dir=\"rtl\"> <font size=\"4\" face=\"HM XNiloofar\"> \n",
        "انتظار داریم \n",
        "KNN\n",
        "نیز بتواند غیر خطی بودن بین متغیر‌ها را مدل کند. زیرا صرفا هر داده‌ را بر اساس همسایه‌هاش پیش‌بینی می‌کند. در نتیجه انتظار می‌رود که عملکرد خوبی را نیز در روش \n",
        "KNN\n",
        "شاهد باشیم.\n",
        "</font> </div>"
      ]
    },
    {
      "cell_type": "markdown",
      "metadata": {
        "id": "Mevs0ot5Cfm7"
      },
      "source": [
        "### Part10:\n",
        "Implementing the `KNN model`."
      ]
    },
    {
      "cell_type": "code",
      "execution_count": 91,
      "metadata": {
        "id": "9r8GmYYACfm7"
      },
      "outputs": [],
      "source": [
        "class KNN:\n",
        "    def __init__(self, number_neighbours, X, Y):\n",
        "        self.k = number_neighbours\n",
        "        self.X = X\n",
        "        self.Y = Y\n",
        "\n",
        "    def distance(self, x1, x2):\n",
        "        # implement the distance function\n",
        "        distance = np.sqrt(np.dot(x1-x2,x1-x2))\n",
        "        return distance\n",
        "\n",
        "    def return_nn_ids(self, x):\n",
        "        distances = []\n",
        "        for i in range(len(self.X)):\n",
        "          distances.append((self.distance(self.X[i],x), i))\n",
        "\n",
        "\n",
        "        distances.sort(key= lambda top:top[0])\n",
        "        # find indices of k nearest neighbours to x\n",
        "        indices = [x[1] for x in distances[0:self.k]]\n",
        "        return indices\n",
        "\n",
        "    def predict(self, x):\n",
        "        neareest_indices = self.return_nn_ids(x)\n",
        "        predicted_y = 0\n",
        "        for near_index in neareest_indices:\n",
        "          predicted_y += self.Y[near_index]\n",
        "        predicted_y = predicted_y / self.k\n",
        "        return predicted_y"
      ]
    },
    {
      "cell_type": "code",
      "execution_count": 92,
      "metadata": {
        "id": "XOx4UCM_Cfm7"
      },
      "outputs": [],
      "source": [
        "def evaluation(k, x_train, y_train, x_test, y_test):\n",
        "    model = KNN(k, x_train, y_train)\n",
        "    predicted_y = [model.predict(x) for x in x_test]\n",
        "    error = mean_squared_error(y_test, predicted_y)\n",
        "    return error, predicted_y"
      ]
    },
    {
      "cell_type": "code",
      "execution_count": 93,
      "metadata": {
        "colab": {
          "base_uri": "https://localhost:8080/"
        },
        "id": "z_X4EOpZCfm8",
        "outputId": "e4bb8c21-c72a-4a07-bb58-299d744d7735"
      },
      "outputs": [
        {
          "output_type": "stream",
          "name": "stdout",
          "text": [
            "MSE error of KNN for test dataset: 0.08574346690799167\n"
          ]
        }
      ],
      "source": [
        "k = 7\n",
        "error_knn, predicted_y = evaluation(k, x_train, y_train, x_test, y_test)\n",
        "print(f\"MSE error of KNN for test dataset: {error_knn}\")"
      ]
    },
    {
      "cell_type": "code",
      "execution_count": 94,
      "metadata": {
        "colab": {
          "base_uri": "https://localhost:8080/",
          "height": 285
        },
        "id": "ALP9iYDuCfm8",
        "outputId": "0e045f38-bdc4-49b5-d243-ac5a9f7a0298"
      },
      "outputs": [
        {
          "output_type": "execute_result",
          "data": {
            "text/plain": [
              "<matplotlib.collections.PathCollection at 0x7fd0cdaea1f0>"
            ]
          },
          "metadata": {},
          "execution_count": 94
        },
        {
          "output_type": "display_data",
          "data": {
            "text/plain": [
              "<Figure size 432x288 with 1 Axes>"
            ],
            "image/png": "[encoded data removed]"
          },
          "metadata": {
            "needs_background": "light"
          }
        }
      ],
      "source": [
        "plt.scatter(x_test, y_test, c=\"blue\")\n",
        "plt.scatter(x_test, predicted_y, c=\"yellow\")"
      ]
    },
    {
      "cell_type": "markdown",
      "metadata": {
        "id": "8283fBLdCfm8"
      },
      "source": [
        "To find best K for this algorithm we suggest to use cross-validation.\n",
        "<br><br/>\n",
        "Did this model perform well (due to the plot and test accuracy)?"
      ]
    },
    {
      "cell_type": "markdown",
      "metadata": {
        "id": "LrWQ-be8Cfm8"
      },
      "source": [
        "<div dir=\"rtl\"> <font size=\"4\" face=\"HM XNiloofar\"> \n",
        "بر اساس دقت تست و نموداری که داده‌های پیش‌بینی شده دارند، مدل به خوبی توانسته بر داده‌ها فیت شود و پیش‌بینی قابل قبولی از \n",
        "y\n",
        "بر حسب \n",
        "x\n",
        "داشته باشد.\n",
        "</font> </div>"
      ]
    }
  ],
  "metadata": {
    "colab": {
      "provenance": []
    },
    "kernelspec": {
      "display_name": "Python 3.7.4 64-bit",
      "language": "python",
      "name": "python3"
    },
    "language_info": {
      "codemirror_mode": {
        "name": "ipython",
        "version": 3
      },
      "file_extension": ".py",
      "mimetype": "text/x-python",
      "name": "python",
      "nbconvert_exporter": "python",
      "pygments_lexer": "ipython3",
      "version": "3.7.4"
    },
    "toc": {
      "base_numbering": 1,
      "nav_menu": {},
      "number_sections": true,
      "sideBar": true,
      "skip_h1_title": false,
      "title_cell": "Table of Contents",
      "title_sidebar": "Contents",
      "toc_cell": false,
      "toc_position": {},
      "toc_section_display": true,
      "toc_window_display": false
    },
    "varInspector": {
      "cols": {
        "lenName": 16,
        "lenType": 16,
        "lenVar": 40
      },
      "kernels_config": {
        "python": {
          "delete_cmd_postfix": "",
          "delete_cmd_prefix": "del ",
          "library": "var_list.py",
          "varRefreshCmd": "print(var_dic_list())"
        },
        "r": {
          "delete_cmd_postfix": ") ",
          "delete_cmd_prefix": "rm(",
          "library": "var_list.r",
          "varRefreshCmd": "cat(var_dic_list()) "
        }
      },
      "types_to_exclude": [
        "module",
        "function",
        "builtin_function_or_method",
        "instance",
        "_Feature"
      ],
      "window_display": false
    },
    "vscode": {
      "interpreter": {
        "hash": "aee8b7b246df8f9039afb4144a1f6fd8d2ca17a180786b69acc140d282b71a49"
      }
    }
  },
  "nbformat": 4,
  "nbformat_minor": 0
}